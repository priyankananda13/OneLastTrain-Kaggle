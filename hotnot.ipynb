{
 "cells": [
  {
   "cell_type": "markdown",
   "id": "78148871",
   "metadata": {},
   "source": [
    "### Importing the Libraries"
   ]
  },
  {
   "cell_type": "code",
   "execution_count": 1,
   "id": "b60127c1",
   "metadata": {},
   "outputs": [],
   "source": [
    "import numpy as np\n",
    "import pandas as pd\n",
    "import matplotlib.pyplot as plt\n",
    "import seaborn as sns"
   ]
  },
  {
   "cell_type": "markdown",
   "id": "6518fc97",
   "metadata": {},
   "source": [
    "### Reading the dataset"
   ]
  },
  {
   "cell_type": "code",
   "execution_count": 2,
   "id": "ba9549db",
   "metadata": {},
   "outputs": [],
   "source": [
    "train = pd.read_csv('./dataset/Train.csv')"
   ]
  },
  {
   "cell_type": "code",
   "execution_count": 3,
   "id": "d61fd79b",
   "metadata": {},
   "outputs": [
    {
     "data": {
      "text/html": [
       "<div>\n",
       "<style scoped>\n",
       "    .dataframe tbody tr th:only-of-type {\n",
       "        vertical-align: middle;\n",
       "    }\n",
       "\n",
       "    .dataframe tbody tr th {\n",
       "        vertical-align: top;\n",
       "    }\n",
       "\n",
       "    .dataframe thead th {\n",
       "        text-align: right;\n",
       "    }\n",
       "</style>\n",
       "<table border=\"1\" class=\"dataframe\">\n",
       "  <thead>\n",
       "    <tr style=\"text-align: right;\">\n",
       "      <th></th>\n",
       "      <th>race</th>\n",
       "      <th>gender</th>\n",
       "      <th>age</th>\n",
       "      <th>weight</th>\n",
       "      <th>admission_type_id</th>\n",
       "      <th>discharge_disposition_id</th>\n",
       "      <th>admission_source_id</th>\n",
       "      <th>time_in_hospital</th>\n",
       "      <th>payer_code</th>\n",
       "      <th>medical_specialty</th>\n",
       "      <th>...</th>\n",
       "      <th>citoglipton</th>\n",
       "      <th>insulin</th>\n",
       "      <th>glyburide-metformin</th>\n",
       "      <th>glipizide-metformin</th>\n",
       "      <th>glimepiride-pioglitazone</th>\n",
       "      <th>metformin-rosiglitazone</th>\n",
       "      <th>metformin-pioglitazone</th>\n",
       "      <th>change</th>\n",
       "      <th>diabetesMed</th>\n",
       "      <th>readmitted_NO</th>\n",
       "    </tr>\n",
       "  </thead>\n",
       "  <tbody>\n",
       "    <tr>\n",
       "      <th>0</th>\n",
       "      <td>Caucasian</td>\n",
       "      <td>Female</td>\n",
       "      <td>[0-10)</td>\n",
       "      <td>?</td>\n",
       "      <td>6</td>\n",
       "      <td>25</td>\n",
       "      <td>1</td>\n",
       "      <td>1</td>\n",
       "      <td>?</td>\n",
       "      <td>Pediatrics-Endocrinology</td>\n",
       "      <td>...</td>\n",
       "      <td>No</td>\n",
       "      <td>No</td>\n",
       "      <td>No</td>\n",
       "      <td>No</td>\n",
       "      <td>No</td>\n",
       "      <td>No</td>\n",
       "      <td>No</td>\n",
       "      <td>No</td>\n",
       "      <td>No</td>\n",
       "      <td>1</td>\n",
       "    </tr>\n",
       "    <tr>\n",
       "      <th>1</th>\n",
       "      <td>Caucasian</td>\n",
       "      <td>Female</td>\n",
       "      <td>[10-20)</td>\n",
       "      <td>?</td>\n",
       "      <td>1</td>\n",
       "      <td>1</td>\n",
       "      <td>7</td>\n",
       "      <td>3</td>\n",
       "      <td>?</td>\n",
       "      <td>?</td>\n",
       "      <td>...</td>\n",
       "      <td>No</td>\n",
       "      <td>Up</td>\n",
       "      <td>No</td>\n",
       "      <td>No</td>\n",
       "      <td>No</td>\n",
       "      <td>No</td>\n",
       "      <td>No</td>\n",
       "      <td>Ch</td>\n",
       "      <td>Yes</td>\n",
       "      <td>0</td>\n",
       "    </tr>\n",
       "    <tr>\n",
       "      <th>2</th>\n",
       "      <td>AfricanAmerican</td>\n",
       "      <td>Female</td>\n",
       "      <td>[20-30)</td>\n",
       "      <td>?</td>\n",
       "      <td>1</td>\n",
       "      <td>1</td>\n",
       "      <td>7</td>\n",
       "      <td>2</td>\n",
       "      <td>?</td>\n",
       "      <td>?</td>\n",
       "      <td>...</td>\n",
       "      <td>No</td>\n",
       "      <td>No</td>\n",
       "      <td>No</td>\n",
       "      <td>No</td>\n",
       "      <td>No</td>\n",
       "      <td>No</td>\n",
       "      <td>No</td>\n",
       "      <td>No</td>\n",
       "      <td>Yes</td>\n",
       "      <td>1</td>\n",
       "    </tr>\n",
       "    <tr>\n",
       "      <th>3</th>\n",
       "      <td>Caucasian</td>\n",
       "      <td>Male</td>\n",
       "      <td>[30-40)</td>\n",
       "      <td>?</td>\n",
       "      <td>1</td>\n",
       "      <td>1</td>\n",
       "      <td>7</td>\n",
       "      <td>2</td>\n",
       "      <td>?</td>\n",
       "      <td>?</td>\n",
       "      <td>...</td>\n",
       "      <td>No</td>\n",
       "      <td>Up</td>\n",
       "      <td>No</td>\n",
       "      <td>No</td>\n",
       "      <td>No</td>\n",
       "      <td>No</td>\n",
       "      <td>No</td>\n",
       "      <td>Ch</td>\n",
       "      <td>Yes</td>\n",
       "      <td>1</td>\n",
       "    </tr>\n",
       "    <tr>\n",
       "      <th>4</th>\n",
       "      <td>Caucasian</td>\n",
       "      <td>Male</td>\n",
       "      <td>[40-50)</td>\n",
       "      <td>?</td>\n",
       "      <td>1</td>\n",
       "      <td>1</td>\n",
       "      <td>7</td>\n",
       "      <td>1</td>\n",
       "      <td>?</td>\n",
       "      <td>?</td>\n",
       "      <td>...</td>\n",
       "      <td>No</td>\n",
       "      <td>Steady</td>\n",
       "      <td>No</td>\n",
       "      <td>No</td>\n",
       "      <td>No</td>\n",
       "      <td>No</td>\n",
       "      <td>No</td>\n",
       "      <td>Ch</td>\n",
       "      <td>Yes</td>\n",
       "      <td>1</td>\n",
       "    </tr>\n",
       "  </tbody>\n",
       "</table>\n",
       "<p>5 rows × 48 columns</p>\n",
       "</div>"
      ],
      "text/plain": [
       "              race  gender      age weight  admission_type_id  \\\n",
       "0        Caucasian  Female   [0-10)      ?                  6   \n",
       "1        Caucasian  Female  [10-20)      ?                  1   \n",
       "2  AfricanAmerican  Female  [20-30)      ?                  1   \n",
       "3        Caucasian    Male  [30-40)      ?                  1   \n",
       "4        Caucasian    Male  [40-50)      ?                  1   \n",
       "\n",
       "   discharge_disposition_id  admission_source_id  time_in_hospital payer_code  \\\n",
       "0                        25                    1                 1          ?   \n",
       "1                         1                    7                 3          ?   \n",
       "2                         1                    7                 2          ?   \n",
       "3                         1                    7                 2          ?   \n",
       "4                         1                    7                 1          ?   \n",
       "\n",
       "          medical_specialty  ...  citoglipton  insulin  glyburide-metformin  \\\n",
       "0  Pediatrics-Endocrinology  ...           No       No                   No   \n",
       "1                         ?  ...           No       Up                   No   \n",
       "2                         ?  ...           No       No                   No   \n",
       "3                         ?  ...           No       Up                   No   \n",
       "4                         ?  ...           No   Steady                   No   \n",
       "\n",
       "   glipizide-metformin  glimepiride-pioglitazone  metformin-rosiglitazone  \\\n",
       "0                   No                        No                       No   \n",
       "1                   No                        No                       No   \n",
       "2                   No                        No                       No   \n",
       "3                   No                        No                       No   \n",
       "4                   No                        No                       No   \n",
       "\n",
       "  metformin-pioglitazone change diabetesMed  readmitted_NO  \n",
       "0                     No     No          No              1  \n",
       "1                     No     Ch         Yes              0  \n",
       "2                     No     No         Yes              1  \n",
       "3                     No     Ch         Yes              1  \n",
       "4                     No     Ch         Yes              1  \n",
       "\n",
       "[5 rows x 48 columns]"
      ]
     },
     "execution_count": 3,
     "metadata": {},
     "output_type": "execute_result"
    }
   ],
   "source": [
    "train.head()"
   ]
  },
  {
   "cell_type": "markdown",
   "id": "5d463d63",
   "metadata": {},
   "source": [
    "### Processing the missing data"
   ]
  },
  {
   "cell_type": "code",
   "execution_count": 4,
   "id": "c759253a",
   "metadata": {},
   "outputs": [
    {
     "data": {
      "text/html": [
       "<div>\n",
       "<style scoped>\n",
       "    .dataframe tbody tr th:only-of-type {\n",
       "        vertical-align: middle;\n",
       "    }\n",
       "\n",
       "    .dataframe tbody tr th {\n",
       "        vertical-align: top;\n",
       "    }\n",
       "\n",
       "    .dataframe thead th {\n",
       "        text-align: right;\n",
       "    }\n",
       "</style>\n",
       "<table border=\"1\" class=\"dataframe\">\n",
       "  <thead>\n",
       "    <tr style=\"text-align: right;\">\n",
       "      <th></th>\n",
       "      <th>race</th>\n",
       "      <th>gender</th>\n",
       "      <th>age</th>\n",
       "      <th>weight</th>\n",
       "      <th>admission_type_id</th>\n",
       "      <th>discharge_disposition_id</th>\n",
       "      <th>admission_source_id</th>\n",
       "      <th>time_in_hospital</th>\n",
       "      <th>payer_code</th>\n",
       "      <th>medical_specialty</th>\n",
       "      <th>...</th>\n",
       "      <th>citoglipton</th>\n",
       "      <th>insulin</th>\n",
       "      <th>glyburide-metformin</th>\n",
       "      <th>glipizide-metformin</th>\n",
       "      <th>glimepiride-pioglitazone</th>\n",
       "      <th>metformin-rosiglitazone</th>\n",
       "      <th>metformin-pioglitazone</th>\n",
       "      <th>change</th>\n",
       "      <th>diabetesMed</th>\n",
       "      <th>readmitted_NO</th>\n",
       "    </tr>\n",
       "  </thead>\n",
       "  <tbody>\n",
       "    <tr>\n",
       "      <th>0</th>\n",
       "      <td>Caucasian</td>\n",
       "      <td>Female</td>\n",
       "      <td>[0-10)</td>\n",
       "      <td>NaN</td>\n",
       "      <td>6</td>\n",
       "      <td>25</td>\n",
       "      <td>1</td>\n",
       "      <td>1</td>\n",
       "      <td>NaN</td>\n",
       "      <td>Pediatrics-Endocrinology</td>\n",
       "      <td>...</td>\n",
       "      <td>No</td>\n",
       "      <td>No</td>\n",
       "      <td>No</td>\n",
       "      <td>No</td>\n",
       "      <td>No</td>\n",
       "      <td>No</td>\n",
       "      <td>No</td>\n",
       "      <td>No</td>\n",
       "      <td>No</td>\n",
       "      <td>1</td>\n",
       "    </tr>\n",
       "    <tr>\n",
       "      <th>1</th>\n",
       "      <td>Caucasian</td>\n",
       "      <td>Female</td>\n",
       "      <td>[10-20)</td>\n",
       "      <td>NaN</td>\n",
       "      <td>1</td>\n",
       "      <td>1</td>\n",
       "      <td>7</td>\n",
       "      <td>3</td>\n",
       "      <td>NaN</td>\n",
       "      <td>NaN</td>\n",
       "      <td>...</td>\n",
       "      <td>No</td>\n",
       "      <td>Up</td>\n",
       "      <td>No</td>\n",
       "      <td>No</td>\n",
       "      <td>No</td>\n",
       "      <td>No</td>\n",
       "      <td>No</td>\n",
       "      <td>Ch</td>\n",
       "      <td>Yes</td>\n",
       "      <td>0</td>\n",
       "    </tr>\n",
       "    <tr>\n",
       "      <th>2</th>\n",
       "      <td>AfricanAmerican</td>\n",
       "      <td>Female</td>\n",
       "      <td>[20-30)</td>\n",
       "      <td>NaN</td>\n",
       "      <td>1</td>\n",
       "      <td>1</td>\n",
       "      <td>7</td>\n",
       "      <td>2</td>\n",
       "      <td>NaN</td>\n",
       "      <td>NaN</td>\n",
       "      <td>...</td>\n",
       "      <td>No</td>\n",
       "      <td>No</td>\n",
       "      <td>No</td>\n",
       "      <td>No</td>\n",
       "      <td>No</td>\n",
       "      <td>No</td>\n",
       "      <td>No</td>\n",
       "      <td>No</td>\n",
       "      <td>Yes</td>\n",
       "      <td>1</td>\n",
       "    </tr>\n",
       "    <tr>\n",
       "      <th>3</th>\n",
       "      <td>Caucasian</td>\n",
       "      <td>Male</td>\n",
       "      <td>[30-40)</td>\n",
       "      <td>NaN</td>\n",
       "      <td>1</td>\n",
       "      <td>1</td>\n",
       "      <td>7</td>\n",
       "      <td>2</td>\n",
       "      <td>NaN</td>\n",
       "      <td>NaN</td>\n",
       "      <td>...</td>\n",
       "      <td>No</td>\n",
       "      <td>Up</td>\n",
       "      <td>No</td>\n",
       "      <td>No</td>\n",
       "      <td>No</td>\n",
       "      <td>No</td>\n",
       "      <td>No</td>\n",
       "      <td>Ch</td>\n",
       "      <td>Yes</td>\n",
       "      <td>1</td>\n",
       "    </tr>\n",
       "    <tr>\n",
       "      <th>4</th>\n",
       "      <td>Caucasian</td>\n",
       "      <td>Male</td>\n",
       "      <td>[40-50)</td>\n",
       "      <td>NaN</td>\n",
       "      <td>1</td>\n",
       "      <td>1</td>\n",
       "      <td>7</td>\n",
       "      <td>1</td>\n",
       "      <td>NaN</td>\n",
       "      <td>NaN</td>\n",
       "      <td>...</td>\n",
       "      <td>No</td>\n",
       "      <td>Steady</td>\n",
       "      <td>No</td>\n",
       "      <td>No</td>\n",
       "      <td>No</td>\n",
       "      <td>No</td>\n",
       "      <td>No</td>\n",
       "      <td>Ch</td>\n",
       "      <td>Yes</td>\n",
       "      <td>1</td>\n",
       "    </tr>\n",
       "  </tbody>\n",
       "</table>\n",
       "<p>5 rows × 48 columns</p>\n",
       "</div>"
      ],
      "text/plain": [
       "              race  gender      age weight  admission_type_id  \\\n",
       "0        Caucasian  Female   [0-10)    NaN                  6   \n",
       "1        Caucasian  Female  [10-20)    NaN                  1   \n",
       "2  AfricanAmerican  Female  [20-30)    NaN                  1   \n",
       "3        Caucasian    Male  [30-40)    NaN                  1   \n",
       "4        Caucasian    Male  [40-50)    NaN                  1   \n",
       "\n",
       "   discharge_disposition_id  admission_source_id  time_in_hospital payer_code  \\\n",
       "0                        25                    1                 1        NaN   \n",
       "1                         1                    7                 3        NaN   \n",
       "2                         1                    7                 2        NaN   \n",
       "3                         1                    7                 2        NaN   \n",
       "4                         1                    7                 1        NaN   \n",
       "\n",
       "          medical_specialty  ...  citoglipton  insulin  glyburide-metformin  \\\n",
       "0  Pediatrics-Endocrinology  ...           No       No                   No   \n",
       "1                       NaN  ...           No       Up                   No   \n",
       "2                       NaN  ...           No       No                   No   \n",
       "3                       NaN  ...           No       Up                   No   \n",
       "4                       NaN  ...           No   Steady                   No   \n",
       "\n",
       "   glipizide-metformin  glimepiride-pioglitazone  metformin-rosiglitazone  \\\n",
       "0                   No                        No                       No   \n",
       "1                   No                        No                       No   \n",
       "2                   No                        No                       No   \n",
       "3                   No                        No                       No   \n",
       "4                   No                        No                       No   \n",
       "\n",
       "  metformin-pioglitazone change diabetesMed  readmitted_NO  \n",
       "0                     No     No          No              1  \n",
       "1                     No     Ch         Yes              0  \n",
       "2                     No     No         Yes              1  \n",
       "3                     No     Ch         Yes              1  \n",
       "4                     No     Ch         Yes              1  \n",
       "\n",
       "[5 rows x 48 columns]"
      ]
     },
     "execution_count": 4,
     "metadata": {},
     "output_type": "execute_result"
    }
   ],
   "source": [
    "# Homogenizing None\n",
    "train.replace('?', np.nan, inplace=True)\n",
    "train.replace('None', np.nan, inplace=True)\n",
    "train.head()"
   ]
  },
  {
   "cell_type": "code",
   "execution_count": 5,
   "id": "ede7dd20",
   "metadata": {},
   "outputs": [
    {
     "name": "stdout",
     "output_type": "stream",
     "text": [
      "<class 'pandas.core.frame.DataFrame'>\n",
      "RangeIndex: 71236 entries, 0 to 71235\n",
      "Data columns (total 48 columns):\n",
      " #   Column                    Non-Null Count  Dtype \n",
      "---  ------                    --------------  ----- \n",
      " 0   race                      69868 non-null  object\n",
      " 1   gender                    71236 non-null  object\n",
      " 2   age                       71236 non-null  object\n",
      " 3   weight                    2348 non-null   object\n",
      " 4   admission_type_id         71236 non-null  int64 \n",
      " 5   discharge_disposition_id  71236 non-null  int64 \n",
      " 6   admission_source_id       71236 non-null  int64 \n",
      " 7   time_in_hospital          71236 non-null  int64 \n",
      " 8   payer_code                34115 non-null  object\n",
      " 9   medical_specialty         41672 non-null  object\n",
      " 10  num_lab_procedures        71236 non-null  int64 \n",
      " 11  num_procedures            71236 non-null  int64 \n",
      " 12  num_medications           71236 non-null  int64 \n",
      " 13  number_outpatient         71236 non-null  int64 \n",
      " 14  number_emergency          71236 non-null  int64 \n",
      " 15  number_inpatient          71236 non-null  int64 \n",
      " 16  diag_1                    71218 non-null  object\n",
      " 17  diag_2                    70925 non-null  object\n",
      " 18  diag_3                    69991 non-null  object\n",
      " 19  number_diagnoses          71236 non-null  int64 \n",
      " 20  max_glu_serum             4932 non-null   object\n",
      " 21  A1Cresult                 11378 non-null  object\n",
      " 22  metformin                 71236 non-null  object\n",
      " 23  repaglinide               71236 non-null  object\n",
      " 24  nateglinide               71236 non-null  object\n",
      " 25  chlorpropamide            71236 non-null  object\n",
      " 26  glimepiride               71236 non-null  object\n",
      " 27  acetohexamide             71236 non-null  object\n",
      " 28  glipizide                 71236 non-null  object\n",
      " 29  glyburide                 71236 non-null  object\n",
      " 30  tolbutamide               71236 non-null  object\n",
      " 31  pioglitazone              71236 non-null  object\n",
      " 32  rosiglitazone             71236 non-null  object\n",
      " 33  acarbose                  71236 non-null  object\n",
      " 34  miglitol                  71236 non-null  object\n",
      " 35  troglitazone              71236 non-null  object\n",
      " 36  tolazamide                71236 non-null  object\n",
      " 37  examide                   71236 non-null  object\n",
      " 38  citoglipton               71236 non-null  object\n",
      " 39  insulin                   71236 non-null  object\n",
      " 40  glyburide-metformin       71236 non-null  object\n",
      " 41  glipizide-metformin       71236 non-null  object\n",
      " 42  glimepiride-pioglitazone  71236 non-null  object\n",
      " 43  metformin-rosiglitazone   71236 non-null  object\n",
      " 44  metformin-pioglitazone    71236 non-null  object\n",
      " 45  change                    71236 non-null  object\n",
      " 46  diabetesMed               71236 non-null  object\n",
      " 47  readmitted_NO             71236 non-null  int64 \n",
      "dtypes: int64(12), object(36)\n",
      "memory usage: 26.1+ MB\n"
     ]
    }
   ],
   "source": [
    "train.info()"
   ]
  },
  {
   "cell_type": "code",
   "execution_count": 6,
   "id": "00fc90e1",
   "metadata": {},
   "outputs": [
    {
     "data": {
      "text/plain": [
       "weight               96.703914\n",
       "max_glu_serum        93.076534\n",
       "A1Cresult            84.027739\n",
       "payer_code           52.109888\n",
       "medical_specialty    41.501488\n",
       "race                  1.920377\n",
       "diag_3                1.747712\n",
       "diag_2                0.436577\n",
       "diag_1                0.025268\n",
       "dtype: float64"
      ]
     },
     "execution_count": 6,
     "metadata": {},
     "output_type": "execute_result"
    }
   ],
   "source": [
    "miss_val=(train.isna().sum()/len(train)*100).sort_values(ascending=False)\n",
    "miss_val[miss_val>0]"
   ]
  },
  {
   "cell_type": "code",
   "execution_count": 7,
   "id": "a9f0dce7",
   "metadata": {},
   "outputs": [],
   "source": [
    "dropped=[]\n",
    "for col in train.columns:\n",
    "    if train[col].isna().sum() > 20000:\n",
    "        dropped.append(col)"
   ]
  },
  {
   "cell_type": "code",
   "execution_count": 8,
   "id": "19d48327",
   "metadata": {},
   "outputs": [],
   "source": [
    "train=train.drop(columns=dropped)"
   ]
  },
  {
   "cell_type": "code",
   "execution_count": 9,
   "id": "9a72ea9f",
   "metadata": {},
   "outputs": [
    {
     "data": {
      "text/html": [
       "<div>\n",
       "<style scoped>\n",
       "    .dataframe tbody tr th:only-of-type {\n",
       "        vertical-align: middle;\n",
       "    }\n",
       "\n",
       "    .dataframe tbody tr th {\n",
       "        vertical-align: top;\n",
       "    }\n",
       "\n",
       "    .dataframe thead th {\n",
       "        text-align: right;\n",
       "    }\n",
       "</style>\n",
       "<table border=\"1\" class=\"dataframe\">\n",
       "  <thead>\n",
       "    <tr style=\"text-align: right;\">\n",
       "      <th></th>\n",
       "      <th>race</th>\n",
       "      <th>gender</th>\n",
       "      <th>age</th>\n",
       "      <th>admission_type_id</th>\n",
       "      <th>discharge_disposition_id</th>\n",
       "      <th>admission_source_id</th>\n",
       "      <th>time_in_hospital</th>\n",
       "      <th>num_lab_procedures</th>\n",
       "      <th>num_procedures</th>\n",
       "      <th>num_medications</th>\n",
       "      <th>...</th>\n",
       "      <th>citoglipton</th>\n",
       "      <th>insulin</th>\n",
       "      <th>glyburide-metformin</th>\n",
       "      <th>glipizide-metformin</th>\n",
       "      <th>glimepiride-pioglitazone</th>\n",
       "      <th>metformin-rosiglitazone</th>\n",
       "      <th>metformin-pioglitazone</th>\n",
       "      <th>change</th>\n",
       "      <th>diabetesMed</th>\n",
       "      <th>readmitted_NO</th>\n",
       "    </tr>\n",
       "  </thead>\n",
       "  <tbody>\n",
       "    <tr>\n",
       "      <th>0</th>\n",
       "      <td>Caucasian</td>\n",
       "      <td>Female</td>\n",
       "      <td>[0-10)</td>\n",
       "      <td>6</td>\n",
       "      <td>25</td>\n",
       "      <td>1</td>\n",
       "      <td>1</td>\n",
       "      <td>41</td>\n",
       "      <td>0</td>\n",
       "      <td>1</td>\n",
       "      <td>...</td>\n",
       "      <td>No</td>\n",
       "      <td>No</td>\n",
       "      <td>No</td>\n",
       "      <td>No</td>\n",
       "      <td>No</td>\n",
       "      <td>No</td>\n",
       "      <td>No</td>\n",
       "      <td>No</td>\n",
       "      <td>No</td>\n",
       "      <td>1</td>\n",
       "    </tr>\n",
       "    <tr>\n",
       "      <th>1</th>\n",
       "      <td>Caucasian</td>\n",
       "      <td>Female</td>\n",
       "      <td>[10-20)</td>\n",
       "      <td>1</td>\n",
       "      <td>1</td>\n",
       "      <td>7</td>\n",
       "      <td>3</td>\n",
       "      <td>59</td>\n",
       "      <td>0</td>\n",
       "      <td>18</td>\n",
       "      <td>...</td>\n",
       "      <td>No</td>\n",
       "      <td>Up</td>\n",
       "      <td>No</td>\n",
       "      <td>No</td>\n",
       "      <td>No</td>\n",
       "      <td>No</td>\n",
       "      <td>No</td>\n",
       "      <td>Ch</td>\n",
       "      <td>Yes</td>\n",
       "      <td>0</td>\n",
       "    </tr>\n",
       "    <tr>\n",
       "      <th>2</th>\n",
       "      <td>AfricanAmerican</td>\n",
       "      <td>Female</td>\n",
       "      <td>[20-30)</td>\n",
       "      <td>1</td>\n",
       "      <td>1</td>\n",
       "      <td>7</td>\n",
       "      <td>2</td>\n",
       "      <td>11</td>\n",
       "      <td>5</td>\n",
       "      <td>13</td>\n",
       "      <td>...</td>\n",
       "      <td>No</td>\n",
       "      <td>No</td>\n",
       "      <td>No</td>\n",
       "      <td>No</td>\n",
       "      <td>No</td>\n",
       "      <td>No</td>\n",
       "      <td>No</td>\n",
       "      <td>No</td>\n",
       "      <td>Yes</td>\n",
       "      <td>1</td>\n",
       "    </tr>\n",
       "    <tr>\n",
       "      <th>3</th>\n",
       "      <td>Caucasian</td>\n",
       "      <td>Male</td>\n",
       "      <td>[30-40)</td>\n",
       "      <td>1</td>\n",
       "      <td>1</td>\n",
       "      <td>7</td>\n",
       "      <td>2</td>\n",
       "      <td>44</td>\n",
       "      <td>1</td>\n",
       "      <td>16</td>\n",
       "      <td>...</td>\n",
       "      <td>No</td>\n",
       "      <td>Up</td>\n",
       "      <td>No</td>\n",
       "      <td>No</td>\n",
       "      <td>No</td>\n",
       "      <td>No</td>\n",
       "      <td>No</td>\n",
       "      <td>Ch</td>\n",
       "      <td>Yes</td>\n",
       "      <td>1</td>\n",
       "    </tr>\n",
       "    <tr>\n",
       "      <th>4</th>\n",
       "      <td>Caucasian</td>\n",
       "      <td>Male</td>\n",
       "      <td>[40-50)</td>\n",
       "      <td>1</td>\n",
       "      <td>1</td>\n",
       "      <td>7</td>\n",
       "      <td>1</td>\n",
       "      <td>51</td>\n",
       "      <td>0</td>\n",
       "      <td>8</td>\n",
       "      <td>...</td>\n",
       "      <td>No</td>\n",
       "      <td>Steady</td>\n",
       "      <td>No</td>\n",
       "      <td>No</td>\n",
       "      <td>No</td>\n",
       "      <td>No</td>\n",
       "      <td>No</td>\n",
       "      <td>Ch</td>\n",
       "      <td>Yes</td>\n",
       "      <td>1</td>\n",
       "    </tr>\n",
       "  </tbody>\n",
       "</table>\n",
       "<p>5 rows × 43 columns</p>\n",
       "</div>"
      ],
      "text/plain": [
       "              race  gender      age  admission_type_id  \\\n",
       "0        Caucasian  Female   [0-10)                  6   \n",
       "1        Caucasian  Female  [10-20)                  1   \n",
       "2  AfricanAmerican  Female  [20-30)                  1   \n",
       "3        Caucasian    Male  [30-40)                  1   \n",
       "4        Caucasian    Male  [40-50)                  1   \n",
       "\n",
       "   discharge_disposition_id  admission_source_id  time_in_hospital  \\\n",
       "0                        25                    1                 1   \n",
       "1                         1                    7                 3   \n",
       "2                         1                    7                 2   \n",
       "3                         1                    7                 2   \n",
       "4                         1                    7                 1   \n",
       "\n",
       "   num_lab_procedures  num_procedures  num_medications  ...  citoglipton  \\\n",
       "0                  41               0                1  ...           No   \n",
       "1                  59               0               18  ...           No   \n",
       "2                  11               5               13  ...           No   \n",
       "3                  44               1               16  ...           No   \n",
       "4                  51               0                8  ...           No   \n",
       "\n",
       "   insulin  glyburide-metformin glipizide-metformin glimepiride-pioglitazone  \\\n",
       "0       No                   No                  No                       No   \n",
       "1       Up                   No                  No                       No   \n",
       "2       No                   No                  No                       No   \n",
       "3       Up                   No                  No                       No   \n",
       "4   Steady                   No                  No                       No   \n",
       "\n",
       "  metformin-rosiglitazone  metformin-pioglitazone change diabetesMed  \\\n",
       "0                      No                      No     No          No   \n",
       "1                      No                      No     Ch         Yes   \n",
       "2                      No                      No     No         Yes   \n",
       "3                      No                      No     Ch         Yes   \n",
       "4                      No                      No     Ch         Yes   \n",
       "\n",
       "  readmitted_NO  \n",
       "0             1  \n",
       "1             0  \n",
       "2             1  \n",
       "3             1  \n",
       "4             1  \n",
       "\n",
       "[5 rows x 43 columns]"
      ]
     },
     "execution_count": 9,
     "metadata": {},
     "output_type": "execute_result"
    }
   ],
   "source": [
    "train.head()"
   ]
  },
  {
   "cell_type": "markdown",
   "id": "b4d36dfb",
   "metadata": {},
   "source": [
    "### Unique data"
   ]
  },
  {
   "cell_type": "code",
   "execution_count": 10,
   "id": "15a2d89e",
   "metadata": {},
   "outputs": [
    {
     "data": {
      "text/plain": [
       "1    37397\n",
       "0    33839\n",
       "Name: readmitted_NO, dtype: int64"
      ]
     },
     "execution_count": 10,
     "metadata": {},
     "output_type": "execute_result"
    }
   ],
   "source": [
    "train['readmitted_NO'].value_counts()"
   ]
  },
  {
   "cell_type": "code",
   "execution_count": 11,
   "id": "0e9f7be1",
   "metadata": {},
   "outputs": [
    {
     "data": {
      "text/plain": [
       "Female             38522\n",
       "Male               32713\n",
       "Unknown/Invalid        1\n",
       "Name: gender, dtype: int64"
      ]
     },
     "execution_count": 11,
     "metadata": {},
     "output_type": "execute_result"
    }
   ],
   "source": [
    "train.gender.value_counts()"
   ]
  },
  {
   "cell_type": "code",
   "execution_count": 12,
   "id": "a3df37d9",
   "metadata": {},
   "outputs": [
    {
     "data": {
      "text/html": [
       "<div>\n",
       "<style scoped>\n",
       "    .dataframe tbody tr th:only-of-type {\n",
       "        vertical-align: middle;\n",
       "    }\n",
       "\n",
       "    .dataframe tbody tr th {\n",
       "        vertical-align: top;\n",
       "    }\n",
       "\n",
       "    .dataframe thead th {\n",
       "        text-align: right;\n",
       "    }\n",
       "</style>\n",
       "<table border=\"1\" class=\"dataframe\">\n",
       "  <thead>\n",
       "    <tr style=\"text-align: right;\">\n",
       "      <th></th>\n",
       "      <th>race</th>\n",
       "      <th>gender</th>\n",
       "      <th>age</th>\n",
       "      <th>admission_type_id</th>\n",
       "      <th>discharge_disposition_id</th>\n",
       "      <th>admission_source_id</th>\n",
       "      <th>time_in_hospital</th>\n",
       "      <th>num_lab_procedures</th>\n",
       "      <th>num_procedures</th>\n",
       "      <th>num_medications</th>\n",
       "      <th>...</th>\n",
       "      <th>citoglipton</th>\n",
       "      <th>insulin</th>\n",
       "      <th>glyburide-metformin</th>\n",
       "      <th>glipizide-metformin</th>\n",
       "      <th>glimepiride-pioglitazone</th>\n",
       "      <th>metformin-rosiglitazone</th>\n",
       "      <th>metformin-pioglitazone</th>\n",
       "      <th>change</th>\n",
       "      <th>diabetesMed</th>\n",
       "      <th>readmitted_NO</th>\n",
       "    </tr>\n",
       "  </thead>\n",
       "  <tbody>\n",
       "    <tr>\n",
       "      <th>30506</th>\n",
       "      <td>Other</td>\n",
       "      <td>Unknown/Invalid</td>\n",
       "      <td>[70-80)</td>\n",
       "      <td>3</td>\n",
       "      <td>1</td>\n",
       "      <td>1</td>\n",
       "      <td>1</td>\n",
       "      <td>5</td>\n",
       "      <td>5</td>\n",
       "      <td>22</td>\n",
       "      <td>...</td>\n",
       "      <td>No</td>\n",
       "      <td>No</td>\n",
       "      <td>No</td>\n",
       "      <td>No</td>\n",
       "      <td>No</td>\n",
       "      <td>No</td>\n",
       "      <td>No</td>\n",
       "      <td>Ch</td>\n",
       "      <td>Yes</td>\n",
       "      <td>1</td>\n",
       "    </tr>\n",
       "  </tbody>\n",
       "</table>\n",
       "<p>1 rows × 43 columns</p>\n",
       "</div>"
      ],
      "text/plain": [
       "        race           gender      age  admission_type_id  \\\n",
       "30506  Other  Unknown/Invalid  [70-80)                  3   \n",
       "\n",
       "       discharge_disposition_id  admission_source_id  time_in_hospital  \\\n",
       "30506                         1                    1                 1   \n",
       "\n",
       "       num_lab_procedures  num_procedures  num_medications  ...  citoglipton  \\\n",
       "30506                   5               5               22  ...           No   \n",
       "\n",
       "       insulin  glyburide-metformin glipizide-metformin  \\\n",
       "30506       No                   No                  No   \n",
       "\n",
       "      glimepiride-pioglitazone metformin-rosiglitazone  \\\n",
       "30506                       No                      No   \n",
       "\n",
       "       metformin-pioglitazone change diabetesMed readmitted_NO  \n",
       "30506                      No     Ch         Yes             1  \n",
       "\n",
       "[1 rows x 43 columns]"
      ]
     },
     "execution_count": 12,
     "metadata": {},
     "output_type": "execute_result"
    }
   ],
   "source": [
    "train[train['gender']=='Unknown/Invalid']"
   ]
  },
  {
   "cell_type": "code",
   "execution_count": 13,
   "id": "24ee24aa",
   "metadata": {},
   "outputs": [],
   "source": [
    "train=train.drop(30506)\n",
    "train=train.reset_index(drop=True)"
   ]
  },
  {
   "cell_type": "code",
   "execution_count": 14,
   "id": "0f89ccc9",
   "metadata": {},
   "outputs": [
    {
     "data": {
      "text/html": [
       "<div>\n",
       "<style scoped>\n",
       "    .dataframe tbody tr th:only-of-type {\n",
       "        vertical-align: middle;\n",
       "    }\n",
       "\n",
       "    .dataframe tbody tr th {\n",
       "        vertical-align: top;\n",
       "    }\n",
       "\n",
       "    .dataframe thead th {\n",
       "        text-align: right;\n",
       "    }\n",
       "</style>\n",
       "<table border=\"1\" class=\"dataframe\">\n",
       "  <thead>\n",
       "    <tr style=\"text-align: right;\">\n",
       "      <th>readmitted_NO</th>\n",
       "      <th>0</th>\n",
       "      <th>1</th>\n",
       "    </tr>\n",
       "    <tr>\n",
       "      <th>age</th>\n",
       "      <th></th>\n",
       "      <th></th>\n",
       "    </tr>\n",
       "  </thead>\n",
       "  <tbody>\n",
       "    <tr>\n",
       "      <th>[0-10)</th>\n",
       "      <td>28</td>\n",
       "      <td>124</td>\n",
       "    </tr>\n",
       "    <tr>\n",
       "      <th>[10-20)</th>\n",
       "      <td>225</td>\n",
       "      <td>350</td>\n",
       "    </tr>\n",
       "    <tr>\n",
       "      <th>[20-30)</th>\n",
       "      <td>554</td>\n",
       "      <td>637</td>\n",
       "    </tr>\n",
       "    <tr>\n",
       "      <th>[30-40)</th>\n",
       "      <td>1235</td>\n",
       "      <td>1564</td>\n",
       "    </tr>\n",
       "    <tr>\n",
       "      <th>[40-50)</th>\n",
       "      <td>3244</td>\n",
       "      <td>3804</td>\n",
       "    </tr>\n",
       "    <tr>\n",
       "      <th>[50-60)</th>\n",
       "      <td>5638</td>\n",
       "      <td>6744</td>\n",
       "    </tr>\n",
       "    <tr>\n",
       "      <th>[60-70)</th>\n",
       "      <td>7502</td>\n",
       "      <td>8090</td>\n",
       "    </tr>\n",
       "    <tr>\n",
       "      <th>[70-80)</th>\n",
       "      <td>9150</td>\n",
       "      <td>9303</td>\n",
       "    </tr>\n",
       "    <tr>\n",
       "      <th>[80-90)</th>\n",
       "      <td>5551</td>\n",
       "      <td>5723</td>\n",
       "    </tr>\n",
       "    <tr>\n",
       "      <th>[90-100)</th>\n",
       "      <td>712</td>\n",
       "      <td>1057</td>\n",
       "    </tr>\n",
       "  </tbody>\n",
       "</table>\n",
       "</div>"
      ],
      "text/plain": [
       "readmitted_NO     0     1\n",
       "age                      \n",
       "[0-10)           28   124\n",
       "[10-20)         225   350\n",
       "[20-30)         554   637\n",
       "[30-40)        1235  1564\n",
       "[40-50)        3244  3804\n",
       "[50-60)        5638  6744\n",
       "[60-70)        7502  8090\n",
       "[70-80)        9150  9303\n",
       "[80-90)        5551  5723\n",
       "[90-100)        712  1057"
      ]
     },
     "execution_count": 14,
     "metadata": {},
     "output_type": "execute_result"
    }
   ],
   "source": [
    "pd.crosstab(train.age,train.readmitted_NO)"
   ]
  },
  {
   "cell_type": "code",
   "execution_count": 15,
   "id": "a49742f2",
   "metadata": {},
   "outputs": [
    {
     "data": {
      "text/html": [
       "<div>\n",
       "<style scoped>\n",
       "    .dataframe tbody tr th:only-of-type {\n",
       "        vertical-align: middle;\n",
       "    }\n",
       "\n",
       "    .dataframe tbody tr th {\n",
       "        vertical-align: top;\n",
       "    }\n",
       "\n",
       "    .dataframe thead th {\n",
       "        text-align: right;\n",
       "    }\n",
       "</style>\n",
       "<table border=\"1\" class=\"dataframe\">\n",
       "  <thead>\n",
       "    <tr style=\"text-align: right;\">\n",
       "      <th>insulin</th>\n",
       "      <th>Down</th>\n",
       "      <th>No</th>\n",
       "      <th>Steady</th>\n",
       "      <th>Up</th>\n",
       "    </tr>\n",
       "    <tr>\n",
       "      <th>diabetesMed</th>\n",
       "      <th></th>\n",
       "      <th></th>\n",
       "      <th></th>\n",
       "      <th></th>\n",
       "    </tr>\n",
       "  </thead>\n",
       "  <tbody>\n",
       "    <tr>\n",
       "      <th>No</th>\n",
       "      <td>0</td>\n",
       "      <td>17289</td>\n",
       "      <td>0</td>\n",
       "      <td>0</td>\n",
       "    </tr>\n",
       "    <tr>\n",
       "      <th>Yes</th>\n",
       "      <td>7610</td>\n",
       "      <td>17884</td>\n",
       "      <td>21783</td>\n",
       "      <td>6669</td>\n",
       "    </tr>\n",
       "  </tbody>\n",
       "</table>\n",
       "</div>"
      ],
      "text/plain": [
       "insulin      Down     No  Steady    Up\n",
       "diabetesMed                           \n",
       "No              0  17289       0     0\n",
       "Yes          7610  17884   21783  6669"
      ]
     },
     "execution_count": 15,
     "metadata": {},
     "output_type": "execute_result"
    }
   ],
   "source": [
    "pd.crosstab(train.diabetesMed,train.insulin)"
   ]
  },
  {
   "cell_type": "code",
   "execution_count": 16,
   "id": "f69c0bfa",
   "metadata": {},
   "outputs": [
    {
     "data": {
      "text/html": [
       "<div>\n",
       "<style scoped>\n",
       "    .dataframe tbody tr th:only-of-type {\n",
       "        vertical-align: middle;\n",
       "    }\n",
       "\n",
       "    .dataframe tbody tr th {\n",
       "        vertical-align: top;\n",
       "    }\n",
       "\n",
       "    .dataframe thead th {\n",
       "        text-align: right;\n",
       "    }\n",
       "</style>\n",
       "<table border=\"1\" class=\"dataframe\">\n",
       "  <thead>\n",
       "    <tr style=\"text-align: right;\">\n",
       "      <th>readmitted_NO</th>\n",
       "      <th>0</th>\n",
       "      <th>1</th>\n",
       "    </tr>\n",
       "    <tr>\n",
       "      <th>diabetesMed</th>\n",
       "      <th></th>\n",
       "      <th></th>\n",
       "    </tr>\n",
       "  </thead>\n",
       "  <tbody>\n",
       "    <tr>\n",
       "      <th>No</th>\n",
       "      <td>7231</td>\n",
       "      <td>10058</td>\n",
       "    </tr>\n",
       "    <tr>\n",
       "      <th>Yes</th>\n",
       "      <td>26608</td>\n",
       "      <td>27338</td>\n",
       "    </tr>\n",
       "  </tbody>\n",
       "</table>\n",
       "</div>"
      ],
      "text/plain": [
       "readmitted_NO      0      1\n",
       "diabetesMed                \n",
       "No              7231  10058\n",
       "Yes            26608  27338"
      ]
     },
     "execution_count": 16,
     "metadata": {},
     "output_type": "execute_result"
    }
   ],
   "source": [
    "pd.crosstab(train.diabetesMed,train.readmitted_NO)"
   ]
  },
  {
   "cell_type": "markdown",
   "id": "304734e0",
   "metadata": {},
   "source": [
    "### Data Visualization"
   ]
  },
  {
   "cell_type": "code",
   "execution_count": 17,
   "id": "9a2e4062",
   "metadata": {},
   "outputs": [
    {
     "name": "stderr",
     "output_type": "stream",
     "text": [
      "C:\\Users\\PRIYANKA\\anaconda3\\lib\\site-packages\\seaborn\\_decorators.py:36: FutureWarning: Pass the following variable as a keyword arg: x. From version 0.12, the only valid positional argument will be `data`, and passing other arguments without an explicit keyword will result in an error or misinterpretation.\n",
      "  warnings.warn(\n"
     ]
    },
    {
     "data": {
      "image/png": "[encoded data removed]",
      "text/plain": [
       "<Figure size 720x432 with 1 Axes>"
      ]
     },
     "metadata": {
      "needs_background": "light"
     },
     "output_type": "display_data"
    }
   ],
   "source": [
    "plt.rcParams['figure.figsize'] = (10,6)\n",
    "sns.countplot(train['number_diagnoses'],palette='twilight_shifted')\n",
    "plt.show()"
   ]
  },
  {
   "cell_type": "code",
   "execution_count": 18,
   "id": "4f080b2a",
   "metadata": {},
   "outputs": [
    {
     "name": "stderr",
     "output_type": "stream",
     "text": [
      "C:\\Users\\PRIYANKA\\anaconda3\\lib\\site-packages\\seaborn\\_decorators.py:36: FutureWarning: Pass the following variable as a keyword arg: x. From version 0.12, the only valid positional argument will be `data`, and passing other arguments without an explicit keyword will result in an error or misinterpretation.\n",
      "  warnings.warn(\n"
     ]
    },
    {
     "data": {
      "image/png": "[encoded data removed]",
      "text/plain": [
       "<Figure size 720x432 with 1 Axes>"
      ]
     },
     "metadata": {
      "needs_background": "light"
     },
     "output_type": "display_data"
    }
   ],
   "source": [
    "sns.countplot(train['time_in_hospital'])\n",
    "plt.show()"
   ]
  },
  {
   "cell_type": "code",
   "execution_count": 19,
   "id": "506e437f",
   "metadata": {},
   "outputs": [
    {
     "name": "stderr",
     "output_type": "stream",
     "text": [
      "C:\\Users\\PRIYANKA\\anaconda3\\lib\\site-packages\\seaborn\\_decorators.py:36: FutureWarning: Pass the following variable as a keyword arg: x. From version 0.12, the only valid positional argument will be `data`, and passing other arguments without an explicit keyword will result in an error or misinterpretation.\n",
      "  warnings.warn(\n"
     ]
    },
    {
     "data": {
      "image/png": "[encoded data removed]",
      "text/plain": [
       "<Figure size 720x432 with 1 Axes>"
      ]
     },
     "metadata": {
      "needs_background": "light"
     },
     "output_type": "display_data"
    }
   ],
   "source": [
    "sns.countplot(train.race,palette='Spectral')\n",
    "plt.show()"
   ]
  },
  {
   "cell_type": "code",
   "execution_count": 20,
   "id": "2f1cfbb8",
   "metadata": {},
   "outputs": [
    {
     "name": "stderr",
     "output_type": "stream",
     "text": [
      "C:\\Users\\PRIYANKA\\anaconda3\\lib\\site-packages\\seaborn\\_decorators.py:36: FutureWarning: Pass the following variable as a keyword arg: x. From version 0.12, the only valid positional argument will be `data`, and passing other arguments without an explicit keyword will result in an error or misinterpretation.\n",
      "  warnings.warn(\n"
     ]
    },
    {
     "data": {
      "image/png": "[encoded data removed]",
      "text/plain": [
       "<Figure size 720x432 with 1 Axes>"
      ]
     },
     "metadata": {
      "needs_background": "light"
     },
     "output_type": "display_data"
    }
   ],
   "source": [
    "sns.countplot(train.age,palette = 'Dark2_r')\n",
    "plt.show()"
   ]
  },
  {
   "cell_type": "code",
   "execution_count": 21,
   "id": "d124c797",
   "metadata": {},
   "outputs": [
    {
     "name": "stdout",
     "output_type": "stream",
     "text": [
      "<class 'pandas.core.frame.DataFrame'>\n",
      "RangeIndex: 71235 entries, 0 to 71234\n",
      "Data columns (total 43 columns):\n",
      " #   Column                    Non-Null Count  Dtype \n",
      "---  ------                    --------------  ----- \n",
      " 0   race                      69867 non-null  object\n",
      " 1   gender                    71235 non-null  object\n",
      " 2   age                       71235 non-null  object\n",
      " 3   admission_type_id         71235 non-null  int64 \n",
      " 4   discharge_disposition_id  71235 non-null  int64 \n",
      " 5   admission_source_id       71235 non-null  int64 \n",
      " 6   time_in_hospital          71235 non-null  int64 \n",
      " 7   num_lab_procedures        71235 non-null  int64 \n",
      " 8   num_procedures            71235 non-null  int64 \n",
      " 9   num_medications           71235 non-null  int64 \n",
      " 10  number_outpatient         71235 non-null  int64 \n",
      " 11  number_emergency          71235 non-null  int64 \n",
      " 12  number_inpatient          71235 non-null  int64 \n",
      " 13  diag_1                    71217 non-null  object\n",
      " 14  diag_2                    70924 non-null  object\n",
      " 15  diag_3                    69990 non-null  object\n",
      " 16  number_diagnoses          71235 non-null  int64 \n",
      " 17  metformin                 71235 non-null  object\n",
      " 18  repaglinide               71235 non-null  object\n",
      " 19  nateglinide               71235 non-null  object\n",
      " 20  chlorpropamide            71235 non-null  object\n",
      " 21  glimepiride               71235 non-null  object\n",
      " 22  acetohexamide             71235 non-null  object\n",
      " 23  glipizide                 71235 non-null  object\n",
      " 24  glyburide                 71235 non-null  object\n",
      " 25  tolbutamide               71235 non-null  object\n",
      " 26  pioglitazone              71235 non-null  object\n",
      " 27  rosiglitazone             71235 non-null  object\n",
      " 28  acarbose                  71235 non-null  object\n",
      " 29  miglitol                  71235 non-null  object\n",
      " 30  troglitazone              71235 non-null  object\n",
      " 31  tolazamide                71235 non-null  object\n",
      " 32  examide                   71235 non-null  object\n",
      " 33  citoglipton               71235 non-null  object\n",
      " 34  insulin                   71235 non-null  object\n",
      " 35  glyburide-metformin       71235 non-null  object\n",
      " 36  glipizide-metformin       71235 non-null  object\n",
      " 37  glimepiride-pioglitazone  71235 non-null  object\n",
      " 38  metformin-rosiglitazone   71235 non-null  object\n",
      " 39  metformin-pioglitazone    71235 non-null  object\n",
      " 40  change                    71235 non-null  object\n",
      " 41  diabetesMed               71235 non-null  object\n",
      " 42  readmitted_NO             71235 non-null  int64 \n",
      "dtypes: int64(12), object(31)\n",
      "memory usage: 23.4+ MB\n"
     ]
    }
   ],
   "source": [
    "train.info()"
   ]
  },
  {
   "cell_type": "code",
   "execution_count": 22,
   "id": "2a27767d",
   "metadata": {},
   "outputs": [],
   "source": [
    "train.race=train.race.fillna(train.race.mode())"
   ]
  },
  {
   "cell_type": "markdown",
   "id": "175fa215",
   "metadata": {},
   "source": [
    "### Converting into numeric values"
   ]
  },
  {
   "cell_type": "code",
   "execution_count": 23,
   "id": "aec2c75d",
   "metadata": {},
   "outputs": [],
   "source": [
    "train.diag_1=pd.to_numeric(train.diag_1,errors='coerce')\n",
    "train.diag_2=pd.to_numeric(train.diag_2,errors='coerce')\n",
    "train.diag_3=pd.to_numeric(train.diag_3,errors='coerce')"
   ]
  },
  {
   "cell_type": "code",
   "execution_count": 24,
   "id": "3fba186a",
   "metadata": {},
   "outputs": [
    {
     "name": "stderr",
     "output_type": "stream",
     "text": [
      "C:\\Users\\PRIYANKA\\anaconda3\\lib\\site-packages\\seaborn\\distributions.py:2557: FutureWarning: `distplot` is a deprecated function and will be removed in a future version. Please adapt your code to use either `displot` (a figure-level function with similar flexibility) or `histplot` (an axes-level function for histograms).\n",
      "  warnings.warn(msg, FutureWarning)\n"
     ]
    },
    {
     "data": {
      "image/png": "[encoded data removed]",
      "text/plain": [
       "<Figure size 720x432 with 1 Axes>"
      ]
     },
     "metadata": {},
     "output_type": "display_data"
    }
   ],
   "source": [
    "sns.set(style = 'whitegrid')\n",
    "sns.distplot(train.diag_1)\n",
    "plt.show()"
   ]
  },
  {
   "cell_type": "code",
   "execution_count": 25,
   "id": "176d780b",
   "metadata": {},
   "outputs": [
    {
     "name": "stderr",
     "output_type": "stream",
     "text": [
      "C:\\Users\\PRIYANKA\\anaconda3\\lib\\site-packages\\seaborn\\distributions.py:2557: FutureWarning: `distplot` is a deprecated function and will be removed in a future version. Please adapt your code to use either `displot` (a figure-level function with similar flexibility) or `histplot` (an axes-level function for histograms).\n",
      "  warnings.warn(msg, FutureWarning)\n"
     ]
    },
    {
     "data": {
      "image/png": "[encoded data removed]",
      "text/plain": [
       "<Figure size 720x432 with 1 Axes>"
      ]
     },
     "metadata": {},
     "output_type": "display_data"
    }
   ],
   "source": [
    "sns.set(style = 'whitegrid')\n",
    "sns.distplot(train.diag_2)\n",
    "plt.show()"
   ]
  },
  {
   "cell_type": "code",
   "execution_count": 26,
   "id": "55386dd8",
   "metadata": {},
   "outputs": [
    {
     "name": "stderr",
     "output_type": "stream",
     "text": [
      "C:\\Users\\PRIYANKA\\anaconda3\\lib\\site-packages\\seaborn\\distributions.py:2557: FutureWarning: `distplot` is a deprecated function and will be removed in a future version. Please adapt your code to use either `displot` (a figure-level function with similar flexibility) or `histplot` (an axes-level function for histograms).\n",
      "  warnings.warn(msg, FutureWarning)\n"
     ]
    },
    {
     "data": {
      "image/png": "[encoded data removed]",
      "text/plain": [
       "<Figure size 720x432 with 1 Axes>"
      ]
     },
     "metadata": {},
     "output_type": "display_data"
    }
   ],
   "source": [
    "sns.set(style = 'whitegrid')\n",
    "sns.distplot(train.diag_3)\n",
    "plt.show()"
   ]
  },
  {
   "cell_type": "code",
   "execution_count": 27,
   "id": "74ff9052",
   "metadata": {},
   "outputs": [],
   "source": [
    "train.diag_1=train.diag_1.fillna(train.diag_1.mean())\n",
    "train.diag_2=train.diag_2.fillna(train.diag_2.mean())"
   ]
  },
  {
   "cell_type": "code",
   "execution_count": 28,
   "id": "0a18cc91",
   "metadata": {},
   "outputs": [
    {
     "data": {
      "text/plain": [
       "0    250.0\n",
       "dtype: float64"
      ]
     },
     "execution_count": 28,
     "metadata": {},
     "output_type": "execute_result"
    }
   ],
   "source": [
    "train.diag_3.mode()"
   ]
  },
  {
   "cell_type": "code",
   "execution_count": 29,
   "id": "6a3f02c9",
   "metadata": {},
   "outputs": [],
   "source": [
    "train.diag_3=train.diag_3.fillna(250)"
   ]
  },
  {
   "cell_type": "code",
   "execution_count": 30,
   "id": "d513f9d6",
   "metadata": {},
   "outputs": [
    {
     "data": {
      "image/png": "[encoded data removed]",
      "text/plain": [
       "<Figure size 720x432 with 2 Axes>"
      ]
     },
     "metadata": {},
     "output_type": "display_data"
    }
   ],
   "source": [
    "fig,(ax1,ax2)=plt.subplots(1,2)\n",
    "ax1.scatter(x='num_lab_procedures',y='num_medications',data=train[train['readmitted_NO']==0],color='b')\n",
    "ax2.scatter(x='num_lab_procedures',y='num_medications',data=train[train['readmitted_NO']==1],color='r')\n",
    "ax1.set_xlabel('Number of lab procedures')\n",
    "ax1.set_ylabel('Number of medications')\n",
    "plt.show()"
   ]
  },
  {
   "cell_type": "markdown",
   "id": "7b7245f5",
   "metadata": {},
   "source": [
    "## Preparing the data for model\n",
    "\n",
    "\n",
    "### Data Encoding"
   ]
  },
  {
   "cell_type": "code",
   "execution_count": 31,
   "id": "ec34f0e3",
   "metadata": {},
   "outputs": [],
   "source": [
    "cat=['metformin','repaglinide','nateglinide','chlorpropamide','glimepiride','acetohexamide',\n",
    "     'glipizide','glyburide','tolbutamide','pioglitazone','rosiglitazone','acarbose','miglitol',\n",
    "     'troglitazone','tolazamide','examide','citoglipton','insulin','glyburide-metformin',\n",
    "    'glipizide-metformin','glimepiride-pioglitazone','metformin-rosiglitazone',\n",
    "     'metformin-pioglitazone','change','diabetesMed','race','gender','age']"
   ]
  },
  {
   "cell_type": "code",
   "execution_count": 32,
   "id": "9a8a63fa",
   "metadata": {},
   "outputs": [],
   "source": [
    "for col in cat:\n",
    "    train[col]=train[col].astype('category')\n",
    "    train[col]=train[col].cat.codes"
   ]
  },
  {
   "cell_type": "code",
   "execution_count": 33,
   "id": "91197450",
   "metadata": {},
   "outputs": [
    {
     "data": {
      "text/html": [
       "<div>\n",
       "<style scoped>\n",
       "    .dataframe tbody tr th:only-of-type {\n",
       "        vertical-align: middle;\n",
       "    }\n",
       "\n",
       "    .dataframe tbody tr th {\n",
       "        vertical-align: top;\n",
       "    }\n",
       "\n",
       "    .dataframe thead th {\n",
       "        text-align: right;\n",
       "    }\n",
       "</style>\n",
       "<table border=\"1\" class=\"dataframe\">\n",
       "  <thead>\n",
       "    <tr style=\"text-align: right;\">\n",
       "      <th></th>\n",
       "      <th>race</th>\n",
       "      <th>gender</th>\n",
       "      <th>age</th>\n",
       "      <th>admission_type_id</th>\n",
       "      <th>discharge_disposition_id</th>\n",
       "      <th>admission_source_id</th>\n",
       "      <th>time_in_hospital</th>\n",
       "      <th>num_lab_procedures</th>\n",
       "      <th>num_procedures</th>\n",
       "      <th>num_medications</th>\n",
       "      <th>...</th>\n",
       "      <th>citoglipton</th>\n",
       "      <th>insulin</th>\n",
       "      <th>glyburide-metformin</th>\n",
       "      <th>glipizide-metformin</th>\n",
       "      <th>glimepiride-pioglitazone</th>\n",
       "      <th>metformin-rosiglitazone</th>\n",
       "      <th>metformin-pioglitazone</th>\n",
       "      <th>change</th>\n",
       "      <th>diabetesMed</th>\n",
       "      <th>readmitted_NO</th>\n",
       "    </tr>\n",
       "  </thead>\n",
       "  <tbody>\n",
       "    <tr>\n",
       "      <th>0</th>\n",
       "      <td>2</td>\n",
       "      <td>0</td>\n",
       "      <td>0</td>\n",
       "      <td>6</td>\n",
       "      <td>25</td>\n",
       "      <td>1</td>\n",
       "      <td>1</td>\n",
       "      <td>41</td>\n",
       "      <td>0</td>\n",
       "      <td>1</td>\n",
       "      <td>...</td>\n",
       "      <td>0</td>\n",
       "      <td>1</td>\n",
       "      <td>1</td>\n",
       "      <td>0</td>\n",
       "      <td>0</td>\n",
       "      <td>0</td>\n",
       "      <td>0</td>\n",
       "      <td>1</td>\n",
       "      <td>0</td>\n",
       "      <td>1</td>\n",
       "    </tr>\n",
       "    <tr>\n",
       "      <th>1</th>\n",
       "      <td>2</td>\n",
       "      <td>0</td>\n",
       "      <td>1</td>\n",
       "      <td>1</td>\n",
       "      <td>1</td>\n",
       "      <td>7</td>\n",
       "      <td>3</td>\n",
       "      <td>59</td>\n",
       "      <td>0</td>\n",
       "      <td>18</td>\n",
       "      <td>...</td>\n",
       "      <td>0</td>\n",
       "      <td>3</td>\n",
       "      <td>1</td>\n",
       "      <td>0</td>\n",
       "      <td>0</td>\n",
       "      <td>0</td>\n",
       "      <td>0</td>\n",
       "      <td>0</td>\n",
       "      <td>1</td>\n",
       "      <td>0</td>\n",
       "    </tr>\n",
       "    <tr>\n",
       "      <th>2</th>\n",
       "      <td>0</td>\n",
       "      <td>0</td>\n",
       "      <td>2</td>\n",
       "      <td>1</td>\n",
       "      <td>1</td>\n",
       "      <td>7</td>\n",
       "      <td>2</td>\n",
       "      <td>11</td>\n",
       "      <td>5</td>\n",
       "      <td>13</td>\n",
       "      <td>...</td>\n",
       "      <td>0</td>\n",
       "      <td>1</td>\n",
       "      <td>1</td>\n",
       "      <td>0</td>\n",
       "      <td>0</td>\n",
       "      <td>0</td>\n",
       "      <td>0</td>\n",
       "      <td>1</td>\n",
       "      <td>1</td>\n",
       "      <td>1</td>\n",
       "    </tr>\n",
       "    <tr>\n",
       "      <th>3</th>\n",
       "      <td>2</td>\n",
       "      <td>1</td>\n",
       "      <td>3</td>\n",
       "      <td>1</td>\n",
       "      <td>1</td>\n",
       "      <td>7</td>\n",
       "      <td>2</td>\n",
       "      <td>44</td>\n",
       "      <td>1</td>\n",
       "      <td>16</td>\n",
       "      <td>...</td>\n",
       "      <td>0</td>\n",
       "      <td>3</td>\n",
       "      <td>1</td>\n",
       "      <td>0</td>\n",
       "      <td>0</td>\n",
       "      <td>0</td>\n",
       "      <td>0</td>\n",
       "      <td>0</td>\n",
       "      <td>1</td>\n",
       "      <td>1</td>\n",
       "    </tr>\n",
       "    <tr>\n",
       "      <th>4</th>\n",
       "      <td>2</td>\n",
       "      <td>1</td>\n",
       "      <td>4</td>\n",
       "      <td>1</td>\n",
       "      <td>1</td>\n",
       "      <td>7</td>\n",
       "      <td>1</td>\n",
       "      <td>51</td>\n",
       "      <td>0</td>\n",
       "      <td>8</td>\n",
       "      <td>...</td>\n",
       "      <td>0</td>\n",
       "      <td>2</td>\n",
       "      <td>1</td>\n",
       "      <td>0</td>\n",
       "      <td>0</td>\n",
       "      <td>0</td>\n",
       "      <td>0</td>\n",
       "      <td>0</td>\n",
       "      <td>1</td>\n",
       "      <td>1</td>\n",
       "    </tr>\n",
       "  </tbody>\n",
       "</table>\n",
       "<p>5 rows × 43 columns</p>\n",
       "</div>"
      ],
      "text/plain": [
       "   race  gender  age  admission_type_id  discharge_disposition_id  \\\n",
       "0     2       0    0                  6                        25   \n",
       "1     2       0    1                  1                         1   \n",
       "2     0       0    2                  1                         1   \n",
       "3     2       1    3                  1                         1   \n",
       "4     2       1    4                  1                         1   \n",
       "\n",
       "   admission_source_id  time_in_hospital  num_lab_procedures  num_procedures  \\\n",
       "0                    1                 1                  41               0   \n",
       "1                    7                 3                  59               0   \n",
       "2                    7                 2                  11               5   \n",
       "3                    7                 2                  44               1   \n",
       "4                    7                 1                  51               0   \n",
       "\n",
       "   num_medications  ...  citoglipton  insulin  glyburide-metformin  \\\n",
       "0                1  ...            0        1                    1   \n",
       "1               18  ...            0        3                    1   \n",
       "2               13  ...            0        1                    1   \n",
       "3               16  ...            0        3                    1   \n",
       "4                8  ...            0        2                    1   \n",
       "\n",
       "   glipizide-metformin  glimepiride-pioglitazone  metformin-rosiglitazone  \\\n",
       "0                    0                         0                        0   \n",
       "1                    0                         0                        0   \n",
       "2                    0                         0                        0   \n",
       "3                    0                         0                        0   \n",
       "4                    0                         0                        0   \n",
       "\n",
       "   metformin-pioglitazone  change  diabetesMed  readmitted_NO  \n",
       "0                       0       1            0              1  \n",
       "1                       0       0            1              0  \n",
       "2                       0       1            1              1  \n",
       "3                       0       0            1              1  \n",
       "4                       0       0            1              1  \n",
       "\n",
       "[5 rows x 43 columns]"
      ]
     },
     "execution_count": 33,
     "metadata": {},
     "output_type": "execute_result"
    }
   ],
   "source": [
    "train.head()"
   ]
  },
  {
   "cell_type": "code",
   "execution_count": 34,
   "id": "d60a4b23",
   "metadata": {},
   "outputs": [
    {
     "data": {
      "text/plain": [
       "PCA()"
      ]
     },
     "execution_count": 34,
     "metadata": {},
     "output_type": "execute_result"
    }
   ],
   "source": [
    "from sklearn.decomposition import PCA\n",
    "pca=PCA()\n",
    "\n",
    "pca.fit(train)"
   ]
  },
  {
   "cell_type": "code",
   "execution_count": 35,
   "id": "d8fb1c01",
   "metadata": {},
   "outputs": [],
   "source": [
    "transformed=pca.transform(train)"
   ]
  },
  {
   "cell_type": "code",
   "execution_count": 36,
   "id": "c35aa13f",
   "metadata": {},
   "outputs": [
    {
     "name": "stdout",
     "output_type": "stream",
     "text": [
      "[(3122.3555293100694, 'number_inpatient'), (1380.192164015609, 'number_diagnoses'), (746.3301819992145, 'number_emergency'), (480.91597506515865, 'number_outpatient'), (161.58926366067092, 'time_in_hospital'), (127.05055510612416, 'num_procedures'), (108.45283738777177, 'num_medications'), (82.2503735327472, 'admission_source_id'), (80.72322475957334, 'num_lab_procedures'), (61.477452712305194, 'age'), (59.564508931909344, 'diag_3'), (54.26326867195373, 'discharge_disposition_id'), (49.313069328342124, 'race'), (39.10835994869735, 'metformin'), (28.989085745410513, 'repaglinide'), (27.908634954389452, 'pioglitazone'), (14.947247727107667, 'gender'), (9.974387647705443, 'glipizide'), (8.14550916264434, 'acarbose'), (7.875839675789318, 'glyburide'), (5.318788633715856, 'diag_2'), (5.139764855901808, 'nateglinide'), (4.936791995564792, 'rosiglitazone'), (4.207720606888322, 'admission_type_id'), (2.389468091044284, 'tolazamide'), (1.6567019949578317, 'diag_1'), (1.3071541419480266, 'miglitol'), (nan, 'examide'), (nan, 'citoglipton'), (5.631198642730468, 'glyburide-metformin'), (3.390611740581842, 'glimepiride'), (1.2541320070367994, 'tolbutamide'), (1.1482345421808011, 'glipizide-metformin'), (1.1051170301637416, 'acetohexamide'), (0.9244863248305977, 'insulin'), (0.4417904329098726, 'troglitazone'), (0.09791074678948829, 'chlorpropamide'), (nan, 'glimepiride-pioglitazone'), (nan, 'metformin-rosiglitazone'), (nan, 'metformin-pioglitazone'), (296.47744688218194, 'diabetesMed'), (166.04488576729088, 'change')]\n"
     ]
    },
    {
     "name": "stderr",
     "output_type": "stream",
     "text": [
      "C:\\Users\\PRIYANKA\\anaconda3\\lib\\site-packages\\sklearn\\feature_selection\\_univariate_selection.py:114: UserWarning: Features [32 33 37 38 39] are constant.\n",
      "  warnings.warn(\"Features %s are constant.\" % constant_features_idx,\n",
      "C:\\Users\\PRIYANKA\\anaconda3\\lib\\site-packages\\sklearn\\feature_selection\\_univariate_selection.py:116: RuntimeWarning: invalid value encountered in true_divide\n",
      "  f = msb / msw\n"
     ]
    }
   ],
   "source": [
    "from sklearn.feature_selection import SelectKBest   #for feature selection\n",
    "from sklearn.feature_selection import f_classif\n",
    "\n",
    "test = SelectKBest(score_func=f_classif, k=20)\n",
    "fit = test.fit(train.drop(columns=['readmitted_NO']), train['readmitted_NO'])\n",
    "print(sorted(zip(fit.scores_,train.columns),reverse=True))"
   ]
  },
  {
   "cell_type": "markdown",
   "id": "7236b7f0",
   "metadata": {},
   "source": [
    "### Picking the most unrelevant features to drop\n"
   ]
  },
  {
   "cell_type": "code",
   "execution_count": 37,
   "id": "03b27bd1",
   "metadata": {},
   "outputs": [],
   "source": [
    "to_drop=['metformin-pioglitazone','metformin-rosiglitazone','glimepiride-pioglitazone',\n",
    "       'chlorpropamide','troglitazone','insulin','acetohexamide','glipizide-metformin',\n",
    "       'tolbutamide','glimepiride','glyburide-metformin','citoglipton','examide','miglitol',\n",
    "       'diag_1','tolazamide','admission_type_id','rosiglitazone','nateglinide','diag_2',\n",
    "       'glyburide','acarbose','glipizide']"
   ]
  },
  {
   "cell_type": "code",
   "execution_count": 38,
   "id": "6e499ed8",
   "metadata": {},
   "outputs": [],
   "source": [
    "data=train.drop(columns=to_drop)"
   ]
  },
  {
   "cell_type": "markdown",
   "id": "1d9c46ac",
   "metadata": {},
   "source": [
    "### Standardization"
   ]
  },
  {
   "cell_type": "code",
   "execution_count": 39,
   "id": "768a6791",
   "metadata": {},
   "outputs": [],
   "source": [
    "from sklearn.preprocessing import StandardScaler\n",
    "\n",
    "data_scale=StandardScaler().fit_transform(data)\n",
    "data_scale=pd.DataFrame(data_scale,columns=data.columns)\n",
    "x_scale=data_scale.drop(columns=['readmitted_NO'])\n",
    "x=data.drop(columns=['readmitted_NO'])"
   ]
  },
  {
   "cell_type": "markdown",
   "id": "8ff5450a",
   "metadata": {},
   "source": [
    "### Training the model"
   ]
  },
  {
   "cell_type": "code",
   "execution_count": 40,
   "id": "b3804eac",
   "metadata": {},
   "outputs": [
    {
     "data": {
      "text/plain": [
       "KMeans(n_clusters=2)"
      ]
     },
     "execution_count": 40,
     "metadata": {},
     "output_type": "execute_result"
    }
   ],
   "source": [
    "from sklearn.cluster import KMeans\n",
    "\n",
    "model=KMeans(n_clusters=2)\n",
    "\n",
    "model.fit(x_scale)"
   ]
  },
  {
   "cell_type": "code",
   "execution_count": 41,
   "id": "04189643",
   "metadata": {},
   "outputs": [],
   "source": [
    "labels_scale=model.predict(x_scale)"
   ]
  },
  {
   "cell_type": "code",
   "execution_count": 42,
   "id": "be85cee9",
   "metadata": {},
   "outputs": [
    {
     "data": {
      "text/html": [
       "<div>\n",
       "<style scoped>\n",
       "    .dataframe tbody tr th:only-of-type {\n",
       "        vertical-align: middle;\n",
       "    }\n",
       "\n",
       "    .dataframe tbody tr th {\n",
       "        vertical-align: top;\n",
       "    }\n",
       "\n",
       "    .dataframe thead th {\n",
       "        text-align: right;\n",
       "    }\n",
       "</style>\n",
       "<table border=\"1\" class=\"dataframe\">\n",
       "  <thead>\n",
       "    <tr style=\"text-align: right;\">\n",
       "      <th>readmitted_NO</th>\n",
       "      <th>0</th>\n",
       "      <th>1</th>\n",
       "    </tr>\n",
       "    <tr>\n",
       "      <th>row_0</th>\n",
       "      <th></th>\n",
       "      <th></th>\n",
       "    </tr>\n",
       "  </thead>\n",
       "  <tbody>\n",
       "    <tr>\n",
       "      <th>0</th>\n",
       "      <td>16723</td>\n",
       "      <td>16441</td>\n",
       "    </tr>\n",
       "    <tr>\n",
       "      <th>1</th>\n",
       "      <td>17116</td>\n",
       "      <td>20955</td>\n",
       "    </tr>\n",
       "  </tbody>\n",
       "</table>\n",
       "</div>"
      ],
      "text/plain": [
       "readmitted_NO      0      1\n",
       "row_0                      \n",
       "0              16723  16441\n",
       "1              17116  20955"
      ]
     },
     "execution_count": 42,
     "metadata": {},
     "output_type": "execute_result"
    }
   ],
   "source": [
    "pd.crosstab(labels_scale,train['readmitted_NO'])"
   ]
  },
  {
   "cell_type": "code",
   "execution_count": 43,
   "id": "19f6baa8",
   "metadata": {},
   "outputs": [
    {
     "data": {
      "text/plain": [
       "0.5289253878009406"
      ]
     },
     "execution_count": 43,
     "metadata": {},
     "output_type": "execute_result"
    }
   ],
   "source": [
    "from sklearn import metrics\n",
    "metrics.accuracy_score(labels_scale,train['readmitted_NO'])"
   ]
  },
  {
   "cell_type": "markdown",
   "id": "2f786261",
   "metadata": {},
   "source": [
    "### Preparing the test set"
   ]
  },
  {
   "cell_type": "code",
   "execution_count": 44,
   "id": "a5b4ff90",
   "metadata": {},
   "outputs": [],
   "source": [
    "test=pd.read_csv('./dataset/TEST.csv',na_values=['None','?'])"
   ]
  },
  {
   "cell_type": "code",
   "execution_count": 45,
   "id": "6efd8183",
   "metadata": {},
   "outputs": [
    {
     "name": "stdout",
     "output_type": "stream",
     "text": [
      "<class 'pandas.core.frame.DataFrame'>\n",
      "RangeIndex: 30530 entries, 0 to 30529\n",
      "Data columns (total 48 columns):\n",
      " #   Column                    Non-Null Count  Dtype \n",
      "---  ------                    --------------  ----- \n",
      " 0   race                      29625 non-null  object\n",
      " 1   gender                    30530 non-null  object\n",
      " 2   age                       30530 non-null  object\n",
      " 3   weight                    849 non-null    object\n",
      " 4   admission_type_id         30530 non-null  int64 \n",
      " 5   discharge_disposition_id  30530 non-null  int64 \n",
      " 6   admission_source_id       30530 non-null  int64 \n",
      " 7   time_in_hospital          30530 non-null  int64 \n",
      " 8   payer_code                27395 non-null  object\n",
      " 9   medical_specialty         10145 non-null  object\n",
      " 10  num_lab_procedures        30530 non-null  int64 \n",
      " 11  num_procedures            30530 non-null  int64 \n",
      " 12  num_medications           30530 non-null  int64 \n",
      " 13  number_outpatient         30530 non-null  int64 \n",
      " 14  number_emergency          30530 non-null  int64 \n",
      " 15  number_inpatient          30530 non-null  int64 \n",
      " 16  diag_1                    30527 non-null  object\n",
      " 17  diag_2                    30483 non-null  object\n",
      " 18  diag_3                    30352 non-null  object\n",
      " 19  number_diagnoses          30530 non-null  int64 \n",
      " 20  max_glu_serum             414 non-null    object\n",
      " 21  A1Cresult                 5640 non-null   object\n",
      " 22  metformin                 30530 non-null  object\n",
      " 23  repaglinide               30530 non-null  object\n",
      " 24  nateglinide               30530 non-null  object\n",
      " 25  chlorpropamide            30530 non-null  object\n",
      " 26  glimepiride               30530 non-null  object\n",
      " 27  acetohexamide             30530 non-null  object\n",
      " 28  glipizide                 30530 non-null  object\n",
      " 29  glyburide                 30530 non-null  object\n",
      " 30  tolbutamide               30530 non-null  object\n",
      " 31  pioglitazone              30530 non-null  object\n",
      " 32  rosiglitazone             30530 non-null  object\n",
      " 33  acarbose                  30530 non-null  object\n",
      " 34  miglitol                  30530 non-null  object\n",
      " 35  troglitazone              30530 non-null  object\n",
      " 36  tolazamide                30530 non-null  object\n",
      " 37  examide                   30530 non-null  object\n",
      " 38  citoglipton               30530 non-null  object\n",
      " 39  insulin                   30530 non-null  object\n",
      " 40  glyburide-metformin       30530 non-null  object\n",
      " 41  glipizide-metformin       30530 non-null  object\n",
      " 42  glimepiride-pioglitazone  30530 non-null  object\n",
      " 43  metformin-rosiglitazone   30530 non-null  object\n",
      " 44  metformin-pioglitazone    30530 non-null  object\n",
      " 45  change                    30530 non-null  object\n",
      " 46  diabetesMed               30530 non-null  object\n",
      " 47  index                     30530 non-null  int64 \n",
      "dtypes: int64(12), object(36)\n",
      "memory usage: 11.2+ MB\n"
     ]
    }
   ],
   "source": [
    "test.info()"
   ]
  },
  {
   "cell_type": "code",
   "execution_count": 46,
   "id": "6f51a4f4",
   "metadata": {},
   "outputs": [],
   "source": [
    "test=test.drop(columns=dropped)\n",
    "test.race=test.race.fillna('Caucasian')\n",
    "test.diag_1=pd.to_numeric(test.diag_1,errors='coerce')\n",
    "test.diag_2=pd.to_numeric(test.diag_2,errors='coerce')\n",
    "test.diag_3=pd.to_numeric(test.diag_3,errors='coerce')\n",
    "test.diag_1=test.diag_1.fillna(test.diag_1.mean())\n",
    "test.diag_2=test.diag_2.fillna(test.diag_2.mean())\n",
    "test.diag_3=test.diag_3.fillna(250)"
   ]
  },
  {
   "cell_type": "code",
   "execution_count": 47,
   "id": "ea138299",
   "metadata": {},
   "outputs": [],
   "source": [
    "cat=['metformin','repaglinide','nateglinide','chlorpropamide','glimepiride','acetohexamide',\n",
    "     'glipizide','glyburide','tolbutamide','pioglitazone','rosiglitazone','acarbose','miglitol',\n",
    "     'troglitazone','tolazamide','examide','citoglipton','insulin','glyburide-metformin',\n",
    "    'glipizide-metformin','glimepiride-pioglitazone','metformin-rosiglitazone',\n",
    "     'metformin-pioglitazone','change','diabetesMed','race','gender','age']\n",
    "for col in cat:\n",
    "    test[col]=test[col].astype('category')\n",
    "    test[col]=test[col].cat.codes"
   ]
  },
  {
   "cell_type": "code",
   "execution_count": 48,
   "id": "993dcfe2",
   "metadata": {},
   "outputs": [],
   "source": [
    "to_drop=['metformin-pioglitazone','metformin-rosiglitazone','glimepiride-pioglitazone',\n",
    "       'chlorpropamide','troglitazone','insulin','acetohexamide','glipizide-metformin',\n",
    "       'tolbutamide','glimepiride','glyburide-metformin','citoglipton','examide','miglitol',\n",
    "       'diag_1','tolazamide','admission_type_id','rosiglitazone','nateglinide','diag_2',\n",
    "       'glyburide','acarbose','glipizide']\n",
    "test=test.drop(columns=to_drop)"
   ]
  },
  {
   "cell_type": "code",
   "execution_count": 49,
   "id": "69f76d2e",
   "metadata": {},
   "outputs": [],
   "source": [
    "test=test.drop(columns=['index'])"
   ]
  },
  {
   "cell_type": "code",
   "execution_count": 50,
   "id": "1732b6e4",
   "metadata": {},
   "outputs": [],
   "source": [
    "test_scale=StandardScaler().fit_transform(test)\n",
    "test_scale=pd.DataFrame(test_scale,columns=test.columns)\n",
    "\n",
    "target=model.predict(test_scale)"
   ]
  },
  {
   "cell_type": "code",
   "execution_count": 51,
   "id": "11e49eeb",
   "metadata": {},
   "outputs": [],
   "source": [
    "sub=pd.DataFrame(target,columns=['target'])"
   ]
  },
  {
   "cell_type": "code",
   "execution_count": 52,
   "id": "1f038935",
   "metadata": {},
   "outputs": [],
   "source": [
    "sub=sub.reset_index()"
   ]
  },
  {
   "cell_type": "code",
   "execution_count": 53,
   "id": "abeb2ece",
   "metadata": {},
   "outputs": [],
   "source": [
    "sub.to_csv('submission.csv',index=False)"
   ]
  },
  {
   "cell_type": "code",
   "execution_count": null,
   "id": "12552e55",
   "metadata": {},
   "outputs": [],
   "source": []
  }
 ],
 "metadata": {
  "kernelspec": {
   "display_name": "Python 3",
   "language": "python",
   "name": "python3"
  },
  "language_info": {
   "codemirror_mode": {
    "name": "ipython",
    "version": 3
   },
   "file_extension": ".py",
   "mimetype": "text/x-python",
   "name": "python",
   "nbconvert_exporter": "python",
   "pygments_lexer": "ipython3",
   "version": "3.8.8"
  }
 },
 "nbformat": 4,
 "nbformat_minor": 5
}
